{
 "cells": [
  {
   "cell_type": "code",
   "execution_count": 161,
   "metadata": {},
   "outputs": [
    {
     "name": "stdout",
     "output_type": "stream",
     "text": [
      "                                 spatial_ref     slope\n",
      "band y             x                                  \n",
      "1    -1.228974e+06 -257921.4999            0  1.382104\n",
      "                   -257920.4999            0  0.381123\n",
      "                   -257919.4999            0  0.500941\n",
      "                   -257918.4999            0  0.777611\n",
      "                   -257917.4999            0  1.050895\n",
      "...                                      ...       ...\n",
      "     -1.231501e+06 -254073.4999            0  3.321621\n",
      "                   -254072.4999            0  3.734349\n",
      "                   -254071.4999            0  3.944973\n",
      "                   -254070.4999            0  3.939653\n",
      "                   -254069.4999            0  3.893767\n",
      "\n",
      "[9740384 rows x 2 columns]\n"
     ]
    }
   ],
   "source": [
    "import rioxarray, numpy as np\n",
    "\n",
    "rds = rioxarray.open_rasterio(\"uzemicko.tif\")\n",
    "rds = rds.to_dataframe(name=\"slope\")\n",
    "print(rds)"
   ]
  },
  {
   "cell_type": "code",
   "execution_count": 162,
   "metadata": {},
   "outputs": [],
   "source": [
    "df = rds[:10000]"
   ]
  },
  {
   "cell_type": "code",
   "execution_count": 163,
   "metadata": {},
   "outputs": [
    {
     "name": "stdout",
     "output_type": "stream",
     "text": [
      "                                 spatial_ref     slope\n",
      "band y             x                                  \n",
      "1    -1.228974e+06 -257921.4999            0  1.382104\n",
      "                   -257920.4999            0  0.381123\n",
      "                   -257919.4999            0  0.500941\n",
      "                   -257918.4999            0  0.777611\n",
      "                   -257917.4999            0  1.050895\n",
      "...                                      ...       ...\n",
      "     -1.228976e+06 -255632.4999            0  6.401651\n",
      "                   -255631.4999            0  7.513536\n",
      "                   -255630.4999            0  6.971714\n",
      "                   -255629.4999            0  5.040220\n",
      "                   -255628.4999            0  2.467881\n",
      "\n",
      "[10000 rows x 2 columns]\n"
     ]
    }
   ],
   "source": [
    "print(df)"
   ]
  },
  {
   "cell_type": "code",
   "execution_count": 164,
   "metadata": {},
   "outputs": [],
   "source": [
    "from shapely.geometry import Point\n",
    "from shapely.geometry.polygon import Polygon\n",
    "import shapefile\n",
    "\n",
    "polygons = []\n",
    "sf = shapefile.Reader(\"slope_deformations_reference_polygons/reference_data_existing_landslides_polygons.shp\")\n",
    "shapes = sf.shapes()\n",
    "rectangles = []\n",
    "\n",
    "for shape in shapes:\n",
    "    polygons.append(Polygon(shape.points))\n",
    "    rectangles.append(shape.bbox)"
   ]
  },
  {
   "cell_type": "code",
   "execution_count": 165,
   "metadata": {},
   "outputs": [],
   "source": [
    "def is_in_optimised(x, y):\n",
    "    for i in range(len(polygons)):\n",
    "        rectangle = rectangles[i]\n",
    "        low_x, low_y, high_x, high_y = rectangle[0], rectangle[1], rectangle[2], rectangle[3]\n",
    "        if x >= low_x and x <= high_x and y >= low_y and y <= high_y:\n",
    "            polygon = polygons[i]\n",
    "            if polygon.contains(Point(x, y)):\n",
    "                return True\n",
    "\n",
    "    return False"
   ]
  },
  {
   "cell_type": "code",
   "execution_count": 166,
   "metadata": {},
   "outputs": [],
   "source": [
    "is_landslide = set()\n",
    "for i in range(len(polygons)):\n",
    "    rectangle = rectangles[i]\n",
    "    low_x, low_y, high_x, high_y = rectangle[0], rectangle[1], rectangle[2], rectangle[3]\n",
    "    small_df = df.query('y >= @low_y and y <= @high_y and x >= @low_x and x <= @high_x')\n",
    "    if(len(small_df) > 0):\n",
    "        for _, y, x in small_df.index:\n",
    "            if polygons[i].contains(Point(x, y)):\n",
    "                is_landslide.add((x, y))"
   ]
  },
  {
   "cell_type": "code",
   "execution_count": 167,
   "metadata": {},
   "outputs": [
    {
     "name": "stdout",
     "output_type": "stream",
     "text": [
      "                                 is_in  spatial_ref     slope\n",
      "band y             x                                         \n",
      "1    -1.228974e+06 -257921.4999  False            0  1.382104\n",
      "                   -257920.4999  False            0  0.381123\n",
      "                   -257919.4999  False            0  0.500941\n",
      "                   -257918.4999  False            0  0.777611\n",
      "                   -257917.4999  False            0  1.050895\n",
      "...                                ...          ...       ...\n",
      "     -1.228976e+06 -255632.4999   True            0  6.401651\n",
      "                   -255631.4999   True            0  7.513536\n",
      "                   -255630.4999   True            0  6.971714\n",
      "                   -255629.4999   True            0  5.040220\n",
      "                   -255628.4999   True            0  2.467881\n",
      "\n",
      "[10000 rows x 3 columns]\n"
     ]
    }
   ],
   "source": [
    "bools = np.array([True if (x, y) in is_landslide else False for _, y, x in df.index])\n",
    "df.insert(loc = 0, column='is_in', value=bools)\n",
    "print(df)"
   ]
  }
 ],
 "metadata": {
  "interpreter": {
   "hash": "916dbcbb3f70747c44a77c7bcd40155683ae19c65e1c03b4aa3499c5328201f1"
  },
  "kernelspec": {
   "display_name": "Python 3.8.10 64-bit",
   "language": "python",
   "name": "python3"
  },
  "language_info": {
   "codemirror_mode": {
    "name": "ipython",
    "version": 3
   },
   "file_extension": ".py",
   "mimetype": "text/x-python",
   "name": "python",
   "nbconvert_exporter": "python",
   "pygments_lexer": "ipython3",
   "version": "3.8.10"
  },
  "orig_nbformat": 4
 },
 "nbformat": 4,
 "nbformat_minor": 2
}
