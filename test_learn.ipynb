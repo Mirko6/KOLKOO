{
 "cells": [
  {
   "cell_type": "code",
   "execution_count": 33,
   "metadata": {},
   "outputs": [],
   "source": [
    "from PIL import Image\n",
    "import numpy as np\n",
    "import pickle"
   ]
  },
  {
   "cell_type": "code",
   "execution_count": 34,
   "metadata": {},
   "outputs": [
    {
     "name": "stdout",
     "output_type": "stream",
     "text": [
      "(654, 1155)\n"
     ]
    }
   ],
   "source": [
    "im = Image.open('./kentuk.nosync/slope_sm_res10.tif')\n",
    "slopearray = np.array(im)\n",
    "print(slopearray.shape)"
   ]
  },
  {
   "cell_type": "code",
   "execution_count": 35,
   "metadata": {},
   "outputs": [],
   "source": [
    "import rioxarray\n",
    "\n",
    "rds = rioxarray.open_rasterio('./kentuk.nosync/slope_sm_res10.tif')\n",
    "df = rds.to_dataframe(name=\"slope\")\n",
    "\n",
    "from shapely.geometry import Point\n",
    "from shapely.geometry.polygon import Polygon\n",
    "import shapefile\n",
    "\n",
    "polygons = []\n",
    "sf = shapefile.Reader(\"Reference data/slope_deformations_reference_polygons/reference_data_existing_landslides_polygons.shp\")\n",
    "shapes = sf.shapes()\n",
    "rectangles = []\n",
    "\n",
    "for shape in shapes:\n",
    "    polygons.append(Polygon(shape.points))\n",
    "    rectangles.append(shape.bbox)\n",
    "\n",
    "is_landslide = set()\n",
    "for i in range(len(polygons)):\n",
    "    rectangle = rectangles[i]\n",
    "    low_x, low_y, high_x, high_y = rectangle[0], rectangle[1], rectangle[2], rectangle[3]\n",
    "    small_df = df.query('y >= @low_y and y <= @high_y and x >= @low_x and x <= @high_x')\n",
    "    if(len(small_df) > 0):\n",
    "        for _, y, x in small_df.index:\n",
    "            if polygons[i].contains(Point(x, y)):\n",
    "                is_landslide.add((x, y))\n",
    "\n",
    "bools = np.array([True if (x, y) in is_landslide else False for _, y, x in df.index])\n",
    "df.insert(loc = 0, column='is_in', value=bools)\n",
    "rds = df.reset_index().drop(columns=['band', 'spatial_ref'])"
   ]
  },
  {
   "cell_type": "code",
   "execution_count": 36,
   "metadata": {},
   "outputs": [],
   "source": [
    "def preprocess_numpy_array(coordinates, original):\n",
    "    result = []\n",
    "    for i in range(original.shape[0]):\n",
    "        result.append([])\n",
    "        for j in range(original.shape[1]):\n",
    "            current = coordinates.loc[i * original.shape[0] + j]\n",
    "            # result[i].append(current['is_in_polygon'])\n",
    "            result[i].append(1 if current['is_in'] else 0)\n",
    "\n",
    "    return np.array(result)"
   ]
  },
  {
   "cell_type": "code",
   "execution_count": 37,
   "metadata": {},
   "outputs": [],
   "source": [
    "X_test = list()\n",
    "Y_test = list()\n",
    "try:\n",
    "    with open('10smtest.pickle', 'rb') as handle:\n",
    "        X_test, Y_test = pickle.load(handle)\n",
    "except:\n",
    "    np_coords: np.ndarray = preprocess_numpy_array(rds, slopearray)\n",
    "    for i in range(0, slopearray.shape[0] - 100,30):\n",
    "        for j in range(0, slopearray.shape[1] - 100, 30):\n",
    "            current_array: np.ndarray = slopearray[i:i+100, j:j+100].flatten()\n",
    "            X_test.append(current_array)\n",
    "            Y_test.append(np.mean(np_coords[i:i+100, j:j+100]))\n",
    "    \n",
    "    with open('10smtest.pickle', 'wb') as handle:\n",
    "        pickle.dump((X_test, Y_test), handle)"
   ]
  },
  {
   "cell_type": "code",
   "execution_count": 38,
   "metadata": {},
   "outputs": [],
   "source": [
    "from sklearn.linear_model import LinearRegression\n",
    "\n",
    "x = np.array(X_test)\n",
    "y = np.array(Y_test)\n",
    "\n",
    "model = LinearRegression().fit(x, y)"
   ]
  },
  {
   "cell_type": "code",
   "execution_count": 43,
   "metadata": {},
   "outputs": [
    {
     "name": "stdout",
     "output_type": "stream",
     "text": [
      "0.19861549\n"
     ]
    }
   ],
   "source": [
    "whole_slopes = np.array(Image.open('./kentuk.nosync/slope_whole_res10.tif'))\n",
    "result = []\n",
    "for i in range(0, whole_slopes.shape[0] - 100,30):\n",
    "    for j in range(0, whole_slopes.shape[1] - 100, 30):\n",
    "        current_array: np.ndarray = whole_slopes[i:i+100, j:j+100].flatten()\n",
    "        result.append(model.predict(np.array([current_array])))\n",
    "\n",
    "result = np.array(result).resize(whole_slopes.)\n",
    "print(result)"
   ]
  }
 ],
 "metadata": {
  "interpreter": {
   "hash": "6d76aaa0799b4a47ceafefb8d0d966f786cf2de2675181883464256957e9a094"
  },
  "kernelspec": {
   "display_name": "Python 3.9.7 ('base')",
   "language": "python",
   "name": "python3"
  },
  "language_info": {
   "codemirror_mode": {
    "name": "ipython",
    "version": 3
   },
   "file_extension": ".py",
   "mimetype": "text/x-python",
   "name": "python",
   "nbconvert_exporter": "python",
   "pygments_lexer": "ipython3",
   "version": "3.9.7"
  },
  "orig_nbformat": 4
 },
 "nbformat": 4,
 "nbformat_minor": 2
}
