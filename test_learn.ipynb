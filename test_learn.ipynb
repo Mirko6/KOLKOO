{
 "cells": [
  {
   "cell_type": "code",
   "execution_count": 80,
   "metadata": {},
   "outputs": [],
   "source": [
    "from PIL import Image\n",
    "import numpy as np\n",
    "import pickle\n",
    "import rioxarray"
   ]
  },
  {
   "cell_type": "code",
   "execution_count": 81,
   "metadata": {},
   "outputs": [],
   "source": [
    "training_file = \"super_male_uzemie.tif\" #'./nosync.nosync/slope_md.tif'\n",
    "test_file = \"uzemicko.tif\" #'./nosync.nosync/slope_whole.tif'\n",
    "shape_file = \"slope_deformations_reference_polygons/reference_data_existing_landslides_polygons.shp\" #\"Reference data/slope_deformations_reference_polygons/reference_data_existing_landslides_polygons.shp\""
   ]
  },
  {
   "cell_type": "code",
   "execution_count": 82,
   "metadata": {},
   "outputs": [],
   "source": [
    "im = Image.open(training_file)\n",
    "slopearray = np.array(im)"
   ]
  },
  {
   "cell_type": "markdown",
   "metadata": {},
   "source": [
    "Step1: Data extraction"
   ]
  },
  {
   "cell_type": "code",
   "execution_count": 83,
   "metadata": {},
   "outputs": [
    {
     "name": "stdout",
     "output_type": "stream",
     "text": [
      "                   y            x  is_landslide      slope\n",
      "0      -1.227044e+06 -255576.4999             0   2.306876\n",
      "1      -1.227044e+06 -255575.4999             0   5.372233\n",
      "2      -1.227044e+06 -255574.4999             0   6.274973\n",
      "3      -1.227044e+06 -255573.4999             0   4.717222\n",
      "4      -1.227044e+06 -255572.4999             0   5.272253\n",
      "...              ...          ...           ...        ...\n",
      "518077 -1.227517e+06 -254488.4999             1   2.141630\n",
      "518078 -1.227517e+06 -254487.4999             1  19.460506\n",
      "518079 -1.227517e+06 -254486.4999             1  30.893122\n",
      "518080 -1.227517e+06 -254485.4999             1  14.834254\n",
      "518081 -1.227517e+06 -254484.4999             1   6.218382\n",
      "\n",
      "[518082 rows x 4 columns]\n"
     ]
    }
   ],
   "source": [
    "training_data = None\n",
    "try:\n",
    "    #avoid extracting data if already extracted\n",
    "    #training_data.pickle is the extracted data from previous computation\n",
    "    with open('training_data.pickle', 'rb') as handle:\n",
    "        training_data = pickle.load(handle)\n",
    "except:\n",
    "    training_data = rioxarray.open_rasterio(training_file)\n",
    "    df = training_data.to_dataframe(name=\"slope\")\n",
    "\n",
    "    from shapely.geometry import Point\n",
    "    from shapely.geometry.polygon import Polygon\n",
    "    import shapefile\n",
    "\n",
    "    polygons = []\n",
    "    sf = shapefile.Reader(shape_file)\n",
    "    shapes = sf.shapes()\n",
    "    rectangles = []\n",
    "\n",
    "    for shape in shapes:\n",
    "        polygons.append(Polygon(shape.points))\n",
    "        rectangles.append(shape.bbox)\n",
    "\n",
    "    #here we traverse through each polygon and remember all the points that are landslides\n",
    "    #and are inside our training_data\n",
    "    is_landslide = set()\n",
    "    for i in range(len(polygons)):\n",
    "        rectangle = rectangles[i]\n",
    "        low_x, low_y, high_x, high_y = rectangle[0], rectangle[1], rectangle[2], rectangle[3]\n",
    "        small_df = df.query('y >= @low_y and y <= @high_y and x >= @low_x and x <= @high_x')\n",
    "        if(len(small_df) > 0):\n",
    "            for _, y, x in small_df.index:\n",
    "                if polygons[i].contains(Point(x, y)):\n",
    "                    is_landslide.add((x, y))\n",
    "\n",
    "    bools = np.array([1 if (x, y) in is_landslide else 0 for _, y, x in df.index])\n",
    "    df.insert(loc = 0, column='is_landslide', value=bools)\n",
    "    training_data = df.reset_index().drop(columns=['band', 'spatial_ref'])\n",
    "\n",
    "    with open('training_data.pickle', 'wb') as handle:\n",
    "        pickle.dump(training_data, handle)\n",
    "\n",
    "#now training data consists of y, x coordinates, \n",
    "#whether the given coordinate is a landslide or not, and a slope.\n",
    "print(training_data)"
   ]
  },
  {
   "cell_type": "markdown",
   "metadata": {},
   "source": [
    "Step2: learning our model"
   ]
  },
  {
   "cell_type": "code",
   "execution_count": 84,
   "metadata": {},
   "outputs": [],
   "source": [
    "def preprocess_numpy_array(coordinates, original):\n",
    "    return coordinates['is_landslide'].to_numpy().reshape(original.shape[0], original.shape[1])"
   ]
  },
  {
   "cell_type": "code",
   "execution_count": 85,
   "metadata": {},
   "outputs": [],
   "source": [
    "X_test = list()\n",
    "Y_test = list()\n",
    "\n",
    "size_of_square = 100\n",
    "overlap = 30\n",
    "\n",
    "np_coords: np.ndarray = preprocess_numpy_array(training_data, slopearray)\n",
    "for i in range(0, slopearray.shape[0] - size_of_square,overlap):\n",
    "    for j in range(0, slopearray.shape[1] - size_of_square, overlap):\n",
    "        current_array: np.ndarray = slopearray[i:i+size_of_square, j:j+size_of_square].flatten()\n",
    "        X_test.append(current_array)\n",
    "        Y_test.append(np.mean(np_coords[i:i+size_of_square, j:j+size_of_square]))"
   ]
  },
  {
   "cell_type": "code",
   "execution_count": 86,
   "metadata": {},
   "outputs": [],
   "source": [
    "from sklearn.linear_model import LinearRegression\n",
    "\n",
    "x = np.array(X_test)\n",
    "y = np.array(Y_test)\n",
    "\n",
    "model = LinearRegression().fit(x, y)"
   ]
  },
  {
   "cell_type": "markdown",
   "metadata": {},
   "source": [
    "Step3: using our model on the test data"
   ]
  },
  {
   "cell_type": "code",
   "execution_count": 87,
   "metadata": {},
   "outputs": [],
   "source": [
    "#get coordinates from i, j position in the np.array\n",
    "def get_coordinates(i, j, coordinates, original):\n",
    "    top_left = coordinates.loc[i * original.shape[1] + j]\n",
    "    top_right = coordinates.loc[i * original.shape[1] + j + size_of_square]\n",
    "    bottom_left = coordinates.loc[(i+size_of_square) * original.shape[1] + j]\n",
    "    bottom_right = coordinates.loc[(i + size_of_square) * original.shape[1] + j + size_of_square]\n",
    "    return [top_left, top_right, bottom_left, bottom_right]"
   ]
  },
  {
   "cell_type": "code",
   "execution_count": 88,
   "metadata": {},
   "outputs": [],
   "source": [
    "whole_slopes = np.array(Image.open(test_file))\n",
    "result = []\n",
    "\n",
    "test_data = rioxarray.open_rasterio(test_file)\n",
    "test_data = test_data.to_dataframe(name=\"slope\").reset_index().drop(columns=['band', 'spatial_ref', 'slope'])\n",
    "\n",
    "for i in range(0, whole_slopes.shape[0] - size_of_square,overlap):\n",
    "    for j in range(0, whole_slopes.shape[1] - size_of_square, overlap):\n",
    "        current_array: np.ndarray = whole_slopes[i:i+size_of_square, j:j+size_of_square].flatten()\n",
    "        coordinates = get_coordinates(i, j, test_data, whole_slopes)\n",
    "        coordinates.append(model.predict(np.array([current_array])))\n",
    "        result.append(coordinates)\n",
    "\n",
    "result = np.array(result, dtype=object)"
   ]
  },
  {
   "cell_type": "markdown",
   "metadata": {},
   "source": [
    "Step4: writing our predictions so we can see them in QGIS"
   ]
  },
  {
   "cell_type": "code",
   "execution_count": 89,
   "metadata": {},
   "outputs": [],
   "source": [
    "MAGIC_CONSTANT = 0.8\n",
    "import shapefile\n",
    "w = shapefile.Writer('write_rec/outputik', shapefile.POLYGON)\n",
    "polygons_to_draw = []\n",
    "for record in result:\n",
    "    score = record[4][0] \n",
    "    if score > MAGIC_CONSTANT:\n",
    "        left_top_x, left_top_y = record[0]['x'], record[0]['y']\n",
    "        right_top_x, right_top_y = record[1]['x'], record[1]['y']\n",
    "        left_bottom_x, left_bottom_y = record[2]['x'], record[2]['y']\n",
    "        right_bottom_x, right_bottom_y = record[3]['x'], record[3]['y']\n",
    "        polygons_to_draw.append([\n",
    "            [left_bottom_x, left_bottom_y], [left_top_x, left_top_y],\n",
    "            [right_top_x, right_top_y], [right_bottom_x, right_bottom_y]\n",
    "        ])\n",
    "\n",
    "w.field('anotherec')\n",
    "w.record('polygon')\n",
    "w.poly(polygons_to_draw)\n",
    "w.close()"
   ]
  }
 ],
 "metadata": {
  "interpreter": {
   "hash": "6d76aaa0799b4a47ceafefb8d0d966f786cf2de2675181883464256957e9a094"
  },
  "kernelspec": {
   "display_name": "Python 3.9.7 ('base')",
   "language": "python",
   "name": "python3"
  },
  "language_info": {
   "codemirror_mode": {
    "name": "ipython",
    "version": 3
   },
   "file_extension": ".py",
   "mimetype": "text/x-python",
   "name": "python",
   "nbconvert_exporter": "python",
   "pygments_lexer": "ipython3",
   "version": "3.8.10"
  },
  "orig_nbformat": 4
 },
 "nbformat": 4,
 "nbformat_minor": 2
}
