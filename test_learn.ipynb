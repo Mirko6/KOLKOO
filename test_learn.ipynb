{
 "cells": [
  {
   "cell_type": "code",
   "execution_count": 7,
   "metadata": {},
   "outputs": [],
   "source": [
    "from PIL import Image\n",
    "import numpy as np"
   ]
  },
  {
   "cell_type": "code",
   "execution_count": 61,
   "metadata": {},
   "outputs": [
    {
     "name": "stdout",
     "output_type": "stream",
     "text": [
      "(6544, 11551)\n"
     ]
    }
   ],
   "source": [
    "im = Image.open('./kentuk.nosync/slope_sml.tif')\n",
    "slopearray = np.array(im)\n",
    "print(slopearray.shape)"
   ]
  },
  {
   "cell_type": "code",
   "execution_count": 55,
   "metadata": {},
   "outputs": [],
   "source": [
    "import rioxarray\n",
    "\n",
    "rds = rioxarray.open_rasterio('./kentuk.nosync/slope_sml.tif')\n",
    "rds = rds.to_dataframe(name='nieco').reset_index().drop(columns=['band', 'spatial_ref'])\n"
   ]
  },
  {
   "cell_type": "code",
   "execution_count": null,
   "metadata": {},
   "outputs": [],
   "source": []
  },
  {
   "cell_type": "code",
   "execution_count": 23,
   "metadata": {},
   "outputs": [],
   "source": [
    "import random\n",
    "\n",
    "X_test = list()\n",
    "Y_test = list()\n",
    "for i in range(0, slopearray.shape[0] - 100,30):\n",
    "    for j in range(0, slopearray.shape[1] - 100, 30):\n",
    "        current_array: np.ndarray = slopearray[i:i+100, j:j+100].flatten()\n",
    "        X_test.append(current_array)\n",
    "        Y_test.append(random.random())\n"
   ]
  },
  {
   "cell_type": "code",
   "execution_count": 24,
   "metadata": {},
   "outputs": [],
   "source": [
    "from sklearn.linear_model import LinearRegression\n",
    "\n",
    "x = np.array(X_test)\n",
    "y = np.array(Y_test)\n",
    "\n",
    "model = LinearRegression().fit(x, y)"
   ]
  },
  {
   "cell_type": "code",
   "execution_count": null,
   "metadata": {},
   "outputs": [],
   "source": [
    "whole_slopes = np.array(Image.open('./kentuk.nosync/slope_sml.tif'))\n",
    "result = []\n",
    "for i in range(0, slopearray.shape[0] - 100,30):\n",
    "    for j in range(0, slopearray.shape[1] - 100, 30):\n",
    "        current_array: np.ndarray = slopearray[i:i+100, j:j+100].flatten()\n",
    "        X_test.append(current_array)\n",
    "        Y_test.append(random.random())"
   ]
  }
 ],
 "metadata": {
  "interpreter": {
   "hash": "6d76aaa0799b4a47ceafefb8d0d966f786cf2de2675181883464256957e9a094"
  },
  "kernelspec": {
   "display_name": "Python 3.9.7 ('base')",
   "language": "python",
   "name": "python3"
  },
  "language_info": {
   "codemirror_mode": {
    "name": "ipython",
    "version": 3
   },
   "file_extension": ".py",
   "mimetype": "text/x-python",
   "name": "python",
   "nbconvert_exporter": "python",
   "pygments_lexer": "ipython3",
   "version": "3.9.7"
  },
  "orig_nbformat": 4
 },
 "nbformat": 4,
 "nbformat_minor": 2
}
