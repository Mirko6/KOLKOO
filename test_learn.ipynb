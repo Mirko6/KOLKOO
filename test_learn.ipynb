{
 "cells": [
  {
   "cell_type": "code",
   "execution_count": 29,
   "metadata": {},
   "outputs": [],
   "source": [
    "from PIL import Image\n",
    "import numpy as np\n",
    "import pickle"
   ]
  },
  {
   "cell_type": "code",
   "execution_count": 30,
   "metadata": {},
   "outputs": [
    {
     "name": "stdout",
     "output_type": "stream",
     "text": [
      "(1409, 1179)\n"
     ]
    }
   ],
   "source": [
    "im = Image.open('./nosync.nosync/slope_md_res10.tif')\n",
    "slopearray = np.array(im)\n",
    "print(slopearray.shape)"
   ]
  },
  {
   "cell_type": "code",
   "execution_count": 50,
   "metadata": {},
   "outputs": [],
   "source": [
    "import rioxarray\n",
    "\n",
    "rds = rioxarray.open_rasterio('./nosync.nosync/slope_md_res10.tif')\n",
    "df = rds.to_dataframe(name=\"slope\")\n",
    "\n",
    "from shapely.geometry import Point\n",
    "from shapely.geometry.polygon import Polygon\n",
    "import shapefile\n",
    "\n",
    "polygons = []\n",
    "sf = shapefile.Reader(\"Reference data/slope_deformations_reference_polygons/reference_data_existing_landslides_polygons.shp\")\n",
    "shapes = sf.shapes()\n",
    "rectangles = []\n",
    "\n",
    "for shape in shapes:\n",
    "    polygons.append(Polygon(shape.points))\n",
    "    rectangles.append(shape.bbox)\n",
    "\n",
    "is_landslide = set()\n",
    "for i in range(len(polygons)):\n",
    "    rectangle = rectangles[i]\n",
    "    low_x, low_y, high_x, high_y = rectangle[0], rectangle[1], rectangle[2], rectangle[3]\n",
    "    small_df = df.query('y >= @low_y and y <= @high_y and x >= @low_x and x <= @high_x')\n",
    "    if(len(small_df) > 0):\n",
    "        for _, y, x in small_df.index:\n",
    "            if polygons[i].contains(Point(x, y)):\n",
    "                is_landslide.add((x, y))\n",
    "\n",
    "bools = np.array([1 if (x, y) in is_landslide else 0 for _, y, x in df.index])\n",
    "df.insert(loc = 0, column='is_in', value=bools)\n",
    "rds = df.reset_index().drop(columns=['band', 'spatial_ref'])"
   ]
  },
  {
   "cell_type": "code",
   "execution_count": 56,
   "metadata": {},
   "outputs": [],
   "source": [
    "def preprocess_numpy_array(coordinates, original):\n",
    "    return coordinates['is_in'].to_numpy().reshape(original.shape[0], original.shape[1])"
   ]
  },
  {
   "cell_type": "code",
   "execution_count": 57,
   "metadata": {},
   "outputs": [],
   "source": [
    "X_test = list()\n",
    "Y_test = list()\n",
    "\n",
    "size_of_square = 100\n",
    "overlap = 30\n",
    "\n",
    "try:\n",
    "    with open('mdtest.pickle', 'rb') as handle:\n",
    "        X_test, Y_test = pickle.load(handle)\n",
    "except:\n",
    "    np_coords: np.ndarray = preprocess_numpy_array(rds, slopearray)\n",
    "    for i in range(0, slopearray.shape[0] - size_of_square,overlap):\n",
    "        for j in range(0, slopearray.shape[1] - size_of_square, overlap):\n",
    "            current_array: np.ndarray = slopearray[i:i+size_of_square, j:j+size_of_square].flatten()\n",
    "            X_test.append(current_array)\n",
    "            Y_test.append(np.mean(np_coords[i:i+size_of_square, j:j+size_of_square]))\n",
    "    \n",
    "    with open('mdtest.pickle', 'wb') as handle:\n",
    "        pickle.dump((X_test, Y_test), handle)"
   ]
  },
  {
   "cell_type": "code",
   "execution_count": 58,
   "metadata": {},
   "outputs": [],
   "source": [
    "from sklearn.linear_model import LinearRegression\n",
    "\n",
    "x = np.array(X_test)\n",
    "y = np.array(Y_test)\n",
    "\n",
    "model = LinearRegression().fit(x, y)"
   ]
  },
  {
   "cell_type": "code",
   "execution_count": 59,
   "metadata": {},
   "outputs": [],
   "source": [
    "def get_coordinates(i, j, coordinates, original):\n",
    "    top_left = coordinates.loc[i * original.shape[1] + j]\n",
    "    top_right = coordinates.loc[i * original.shape[1] + j + size_of_square]\n",
    "    bottom_left = coordinates.loc[(i+size_of_square) * original.shape[1] + j]\n",
    "    bottom_right = coordinates.loc[(i + size_of_square) * original.shape[1] + j + size_of_square]\n",
    "    return [top_left, top_right, bottom_left, bottom_right]"
   ]
  },
  {
   "cell_type": "code",
   "execution_count": 60,
   "metadata": {},
   "outputs": [],
   "source": [
    "import math\n",
    "whole_slopes = np.array(Image.open('./nosync.nosync/slope_whole_res10.tif'))\n",
    "result = []\n",
    "\n",
    "rds2 = rioxarray.open_rasterio('./nosync.nosync/slope_whole_res10.tif')\n",
    "rds2 = rds2.to_dataframe(name=\"slope\").reset_index().drop(columns=['band', 'spatial_ref', 'slope'])\n",
    "\n",
    "for i in range(0, whole_slopes.shape[0] - size_of_square,overlap):\n",
    "    for j in range(0, whole_slopes.shape[1] - size_of_square, overlap):\n",
    "        current_array: np.ndarray = whole_slopes[i:i+size_of_square, j:j+size_of_square].flatten()\n",
    "        coordinates = get_coordinates(i, j, rds2, whole_slopes)\n",
    "        coordinates.append(model.predict(np.array([current_array])))\n",
    "        result.append(coordinates)\n",
    "\n",
    "result = np.array(result, dtype=object)"
   ]
  }
 ],
 "metadata": {
  "interpreter": {
   "hash": "6d76aaa0799b4a47ceafefb8d0d966f786cf2de2675181883464256957e9a094"
  },
  "kernelspec": {
   "display_name": "Python 3.9.7 ('base')",
   "language": "python",
   "name": "python3"
  },
  "language_info": {
   "codemirror_mode": {
    "name": "ipython",
    "version": 3
   },
   "file_extension": ".py",
   "mimetype": "text/x-python",
   "name": "python",
   "nbconvert_exporter": "python",
   "pygments_lexer": "ipython3",
   "version": "3.9.7"
  },
  "orig_nbformat": 4
 },
 "nbformat": 4,
 "nbformat_minor": 2
}
